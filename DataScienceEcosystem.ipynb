{
 "cells": [
  {
   "cell_type": "markdown",
   "id": "72c07987-0e37-46b3-a49a-4e05a08219cc",
   "metadata": {},
   "source": [
    "# Data Science Tools and Ecosystem"
   ]
  },
  {
   "cell_type": "markdown",
   "id": "2cabf4f3-df6c-4eac-afeb-9788b6f9089d",
   "metadata": {},
   "source": [
    "### In this notebook, datascience Tools and Ecosystem are summerized"
   ]
  },
  {
   "cell_type": "markdown",
   "id": "4069fac3-6500-484e-a525-6eaa125f829a",
   "metadata": {},
   "source": [
    "#### some of the popular languages that Data Scientists use are:\n",
    "1. Python\n",
    "2. R\n",
    "3. SQL\n",
    "4. Julia\n",
    "5. scala etc"
   ]
  },
  {
   "cell_type": "markdown",
   "id": "4af0ff12-10da-4409-8934-6d5e3b3421f6",
   "metadata": {},
   "source": [
    "#### Some of the commonly used libraries used by Data Scientists include:\n",
    "1. Numpy\n",
    "2. Pandas\n",
    "3. NLTK\n",
    "4. Matplotlib\n",
    "5. ScikitLearn\n",
    "6. TensorFlow"
   ]
  },
  {
   "cell_type": "markdown",
   "id": "187c8a9a-0110-4c40-b505-80d7985cded4",
   "metadata": {},
   "source": [
    "| Data Science Tools |\n",
    "|--------------------|\n",
    "|jupyter notebook    |\n",
    "|RStudio             |\n",
    "|SQL                 |"
   ]
  },
  {
   "cell_type": "markdown",
   "id": "a8be4ba0-dc66-4b0c-9068-cb415b10c183",
   "metadata": {},
   "source": [
    "### Below are a few examples of evaluating arithmetic expressions in Python\n",
    "1. Using eval()\n",
    "2. Using numexpr library\n",
    "3. Using sympy library"
   ]
  },
  {
   "cell_type": "markdown",
   "id": "abf17ed5-ec90-4bcf-a8ee-a9084b2da21c",
   "metadata": {},
   "source": [
    "### Create a code cell to multiply and add numbers"
   ]
  },
  {
   "cell_type": "code",
   "execution_count": 7,
   "id": "7845c411-ac37-469e-aa72-391864759fcd",
   "metadata": {},
   "outputs": [
    {
     "name": "stdout",
     "output_type": "stream",
     "text": [
      "17\n"
     ]
    }
   ],
   "source": [
    "a = 3\n",
    "b = 4\n",
    "c = a*b\n",
    "result = c + 5\n",
    "print(result)\n",
    "# This a simple arithmetic expression to mutiply then add integers"
   ]
  },
  {
   "cell_type": "code",
   "execution_count": 1,
   "id": "35c2e309-ad7d-4b1c-abfb-9fd4ad9dd2f1",
   "metadata": {},
   "outputs": [
    {
     "name": "stdout",
     "output_type": "stream",
     "text": [
      "3.3333333333333335\n"
     ]
    }
   ],
   "source": [
    "### Create a code cell to convert minutes to hours\n",
    "minutes = 200\n",
    "hours = minutes/60\n",
    "print(hours)\n",
    "\n",
    "# This will convert 200 minutes to hours by diving by 60"
   ]
  },
  {
   "cell_type": "markdown",
   "id": "0496b174-21b5-4d1c-8ab7-c6d399ddea1a",
   "metadata": {},
   "source": [
    "### Objectives:"
   ]
  },
  {
   "cell_type": "markdown",
   "id": "c8bfbb0d-758c-46ec-a05d-fcd32c55feeb",
   "metadata": {},
   "source": [
    "* List popular languages for Data Science\n",
    "* List some of the commonly used libraries used by Data Scientists include\n",
    "* We perfom some arithmetic expressions in Python"
   ]
  },
  {
   "cell_type": "markdown",
   "id": "64e2b07a-dc6b-41b7-8020-c89b3a423e0a",
   "metadata": {},
   "source": [
    "# Auhtor\n",
    "    Ridwan"
   ]
  },
  {
   "cell_type": "code",
   "execution_count": null,
   "id": "a2437545-bbae-4931-868f-35aac9efd99f",
   "metadata": {},
   "outputs": [],
   "source": []
  }
 ],
 "metadata": {
  "kernelspec": {
   "display_name": "Python 3 (ipykernel)",
   "language": "python",
   "name": "python3"
  },
  "language_info": {
   "codemirror_mode": {
    "name": "ipython",
    "version": 3
   },
   "file_extension": ".py",
   "mimetype": "text/x-python",
   "name": "python",
   "nbconvert_exporter": "python",
   "pygments_lexer": "ipython3",
   "version": "3.11.8"
  }
 },
 "nbformat": 4,
 "nbformat_minor": 5
}
